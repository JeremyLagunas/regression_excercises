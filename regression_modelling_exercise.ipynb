{
 "cells": [
  {
   "cell_type": "code",
   "execution_count": 1,
   "id": "f7c2a41e",
   "metadata": {},
   "outputs": [],
   "source": [
    "import pandas as pd\n",
    "import numpy as np\n",
    "import wrangle\n",
    "import matplotlib.pyplot as plt\n",
    "\n",
    "# modeling methods\n",
    "from sklearn.metrics import mean_squared_error\n",
    "from sklearn.linear_model import LinearRegression, LassoLars, TweedieRegressor\n",
    "from sklearn.preprocessing import PolynomialFeatures\n",
    "import sklearn.preprocessing\n",
    "import warnings\n",
    "warnings.filterwarnings(\"ignore\")\n",
    "import wrangle\n",
    "from sklearn.model_selection import train_test_split\n"
   ]
  },
  {
   "cell_type": "code",
   "execution_count": 2,
   "id": "b98b2cc7",
   "metadata": {},
   "outputs": [],
   "source": [
    "df = wrangle.wrangle_zillow()"
   ]
  },
  {
   "cell_type": "code",
   "execution_count": 3,
   "id": "e33ac2ea",
   "metadata": {},
   "outputs": [
    {
     "data": {
      "text/html": [
       "<div>\n",
       "<style scoped>\n",
       "    .dataframe tbody tr th:only-of-type {\n",
       "        vertical-align: middle;\n",
       "    }\n",
       "\n",
       "    .dataframe tbody tr th {\n",
       "        vertical-align: top;\n",
       "    }\n",
       "\n",
       "    .dataframe thead th {\n",
       "        text-align: right;\n",
       "    }\n",
       "</style>\n",
       "<table border=\"1\" class=\"dataframe\">\n",
       "  <thead>\n",
       "    <tr style=\"text-align: right;\">\n",
       "      <th></th>\n",
       "      <th>bedroomcnt</th>\n",
       "      <th>bathroomcnt</th>\n",
       "      <th>calculatedfinishedsquarefeet</th>\n",
       "      <th>taxvaluedollarcnt</th>\n",
       "      <th>yearbuilt</th>\n",
       "      <th>taxamount</th>\n",
       "      <th>fips</th>\n",
       "    </tr>\n",
       "  </thead>\n",
       "  <tbody>\n",
       "    <tr>\n",
       "      <th>3</th>\n",
       "      <td>0.0</td>\n",
       "      <td>0.0</td>\n",
       "      <td>5068.0</td>\n",
       "      <td>1174475.0</td>\n",
       "      <td>1948.0</td>\n",
       "      <td>14557.57</td>\n",
       "      <td>6037.0</td>\n",
       "    </tr>\n",
       "    <tr>\n",
       "      <th>4</th>\n",
       "      <td>0.0</td>\n",
       "      <td>0.0</td>\n",
       "      <td>1776.0</td>\n",
       "      <td>440101.0</td>\n",
       "      <td>1947.0</td>\n",
       "      <td>5725.17</td>\n",
       "      <td>6037.0</td>\n",
       "    </tr>\n",
       "    <tr>\n",
       "      <th>5</th>\n",
       "      <td>0.0</td>\n",
       "      <td>0.0</td>\n",
       "      <td>2400.0</td>\n",
       "      <td>287634.0</td>\n",
       "      <td>1943.0</td>\n",
       "      <td>3661.28</td>\n",
       "      <td>6037.0</td>\n",
       "    </tr>\n",
       "  </tbody>\n",
       "</table>\n",
       "</div>"
      ],
      "text/plain": [
       "   bedroomcnt  bathroomcnt  calculatedfinishedsquarefeet  taxvaluedollarcnt  \\\n",
       "3         0.0          0.0                        5068.0          1174475.0   \n",
       "4         0.0          0.0                        1776.0           440101.0   \n",
       "5         0.0          0.0                        2400.0           287634.0   \n",
       "\n",
       "   yearbuilt  taxamount    fips  \n",
       "3     1948.0   14557.57  6037.0  \n",
       "4     1947.0    5725.17  6037.0  \n",
       "5     1943.0    3661.28  6037.0  "
      ]
     },
     "execution_count": 3,
     "metadata": {},
     "output_type": "execute_result"
    }
   ],
   "source": [
    "df.head(3)"
   ]
  },
  {
   "cell_type": "code",
   "execution_count": 4,
   "id": "ac70ba2d",
   "metadata": {},
   "outputs": [
    {
     "name": "stdout",
     "output_type": "stream",
     "text": [
      "<class 'pandas.core.frame.DataFrame'>\n",
      "Int64Index: 2813556 entries, 3 to 2982283\n",
      "Data columns (total 7 columns):\n",
      " #   Column                        Dtype  \n",
      "---  ------                        -----  \n",
      " 0   bedroomcnt                    float64\n",
      " 1   bathroomcnt                   float64\n",
      " 2   calculatedfinishedsquarefeet  float64\n",
      " 3   taxvaluedollarcnt             float64\n",
      " 4   yearbuilt                     float64\n",
      " 5   taxamount                     float64\n",
      " 6   fips                          object \n",
      "dtypes: float64(6), object(1)\n",
      "memory usage: 171.7+ MB\n"
     ]
    }
   ],
   "source": [
    "df.info()"
   ]
  },
  {
   "cell_type": "code",
   "execution_count": 5,
   "id": "f861faed",
   "metadata": {},
   "outputs": [],
   "source": [
    "df.fips = df.fips.astype('int')"
   ]
  },
  {
   "cell_type": "code",
   "execution_count": 6,
   "id": "29c24db0",
   "metadata": {},
   "outputs": [
    {
     "name": "stdout",
     "output_type": "stream",
     "text": [
      "<class 'pandas.core.frame.DataFrame'>\n",
      "Int64Index: 2813556 entries, 3 to 2982283\n",
      "Data columns (total 7 columns):\n",
      " #   Column                        Dtype  \n",
      "---  ------                        -----  \n",
      " 0   bedroomcnt                    float64\n",
      " 1   bathroomcnt                   float64\n",
      " 2   calculatedfinishedsquarefeet  float64\n",
      " 3   taxvaluedollarcnt             float64\n",
      " 4   yearbuilt                     float64\n",
      " 5   taxamount                     float64\n",
      " 6   fips                          int64  \n",
      "dtypes: float64(6), int64(1)\n",
      "memory usage: 171.7 MB\n"
     ]
    }
   ],
   "source": [
    "df.info()"
   ]
  },
  {
   "cell_type": "code",
   "execution_count": 7,
   "id": "29dee2ee",
   "metadata": {},
   "outputs": [],
   "source": [
    "train_validate, test = train_test_split(df, random_state=123, train_size=.8)\n",
    "train, validate = train_test_split(train_validate, random_state=123, train_size=.7)"
   ]
  },
  {
   "cell_type": "code",
   "execution_count": 8,
   "id": "0cd2f1d1",
   "metadata": {},
   "outputs": [
    {
     "data": {
      "text/plain": [
       "(1575590, 7)"
      ]
     },
     "execution_count": 8,
     "metadata": {},
     "output_type": "execute_result"
    }
   ],
   "source": [
    "train.shape"
   ]
  },
  {
   "cell_type": "code",
   "execution_count": 9,
   "id": "a35e8b7f",
   "metadata": {},
   "outputs": [
    {
     "data": {
      "text/plain": [
       "(675254, 7)"
      ]
     },
     "execution_count": 9,
     "metadata": {},
     "output_type": "execute_result"
    }
   ],
   "source": [
    "validate.shape"
   ]
  },
  {
   "cell_type": "code",
   "execution_count": 10,
   "id": "351aa1ee",
   "metadata": {},
   "outputs": [
    {
     "data": {
      "text/plain": [
       "(562712, 7)"
      ]
     },
     "execution_count": 10,
     "metadata": {},
     "output_type": "execute_result"
    }
   ],
   "source": [
    "test.shape"
   ]
  },
  {
   "cell_type": "code",
   "execution_count": 11,
   "id": "4c007842",
   "metadata": {},
   "outputs": [
    {
     "data": {
      "text/html": [
       "<div>\n",
       "<style scoped>\n",
       "    .dataframe tbody tr th:only-of-type {\n",
       "        vertical-align: middle;\n",
       "    }\n",
       "\n",
       "    .dataframe tbody tr th {\n",
       "        vertical-align: top;\n",
       "    }\n",
       "\n",
       "    .dataframe thead th {\n",
       "        text-align: right;\n",
       "    }\n",
       "</style>\n",
       "<table border=\"1\" class=\"dataframe\">\n",
       "  <thead>\n",
       "    <tr style=\"text-align: right;\">\n",
       "      <th></th>\n",
       "      <th>bedroomcnt</th>\n",
       "      <th>bathroomcnt</th>\n",
       "      <th>calculatedfinishedsquarefeet</th>\n",
       "      <th>taxvaluedollarcnt</th>\n",
       "      <th>yearbuilt</th>\n",
       "      <th>taxamount</th>\n",
       "      <th>fips</th>\n",
       "    </tr>\n",
       "  </thead>\n",
       "  <tbody>\n",
       "    <tr>\n",
       "      <th>2113106</th>\n",
       "      <td>4.0</td>\n",
       "      <td>2.0</td>\n",
       "      <td>1871.0</td>\n",
       "      <td>624276.0</td>\n",
       "      <td>1977.0</td>\n",
       "      <td>7478.36</td>\n",
       "      <td>6037</td>\n",
       "    </tr>\n",
       "    <tr>\n",
       "      <th>766770</th>\n",
       "      <td>4.0</td>\n",
       "      <td>3.0</td>\n",
       "      <td>3444.0</td>\n",
       "      <td>180519.0</td>\n",
       "      <td>1962.0</td>\n",
       "      <td>2341.60</td>\n",
       "      <td>6037</td>\n",
       "    </tr>\n",
       "    <tr>\n",
       "      <th>2595160</th>\n",
       "      <td>3.0</td>\n",
       "      <td>2.0</td>\n",
       "      <td>1499.0</td>\n",
       "      <td>256766.0</td>\n",
       "      <td>1965.0</td>\n",
       "      <td>2822.68</td>\n",
       "      <td>6111</td>\n",
       "    </tr>\n",
       "  </tbody>\n",
       "</table>\n",
       "</div>"
      ],
      "text/plain": [
       "         bedroomcnt  bathroomcnt  calculatedfinishedsquarefeet  \\\n",
       "2113106         4.0          2.0                        1871.0   \n",
       "766770          4.0          3.0                        3444.0   \n",
       "2595160         3.0          2.0                        1499.0   \n",
       "\n",
       "         taxvaluedollarcnt  yearbuilt  taxamount  fips  \n",
       "2113106           624276.0     1977.0    7478.36  6037  \n",
       "766770            180519.0     1962.0    2341.60  6037  \n",
       "2595160           256766.0     1965.0    2822.68  6111  "
      ]
     },
     "execution_count": 11,
     "metadata": {},
     "output_type": "execute_result"
    }
   ],
   "source": [
    "train.head(3)"
   ]
  },
  {
   "cell_type": "code",
   "execution_count": 12,
   "id": "f7bf28d1",
   "metadata": {},
   "outputs": [],
   "source": [
    "y_train = train.taxvaluedollarcnt\n",
    "x_train = train.drop(columns=['taxvaluedollarcnt'])\n",
    "\n",
    "y_validate = validate.taxvaluedollarcnt\n",
    "x_validate = validate.drop(columns=['taxvaluedollarcnt'])\n",
    "\n",
    "y_test = test.taxvaluedollarcnt\n",
    "x_test = test.drop(columns=['taxvaluedollarcnt'])"
   ]
  },
  {
   "cell_type": "code",
   "execution_count": 13,
   "id": "9d8520cf",
   "metadata": {},
   "outputs": [
    {
     "data": {
      "text/plain": [
       "Index(['bedroomcnt', 'bathroomcnt', 'calculatedfinishedsquarefeet',\n",
       "       'yearbuilt', 'taxamount', 'fips'],\n",
       "      dtype='object')"
      ]
     },
     "execution_count": 13,
     "metadata": {},
     "output_type": "execute_result"
    }
   ],
   "source": [
    "x_train.columns"
   ]
  },
  {
   "cell_type": "code",
   "execution_count": 14,
   "id": "f6f3c743",
   "metadata": {},
   "outputs": [
    {
     "data": {
      "text/plain": [
       "2113106    624276.0\n",
       "766770     180519.0\n",
       "Name: taxvaluedollarcnt, dtype: float64"
      ]
     },
     "execution_count": 14,
     "metadata": {},
     "output_type": "execute_result"
    }
   ],
   "source": [
    "y_train.head(2)"
   ]
  },
  {
   "cell_type": "code",
   "execution_count": 15,
   "id": "9b5c366c",
   "metadata": {},
   "outputs": [],
   "source": [
    "scaler = sklearn.preprocessing.MinMaxScaler()"
   ]
  },
  {
   "cell_type": "code",
   "execution_count": 16,
   "id": "ac78b79a",
   "metadata": {},
   "outputs": [
    {
     "data": {
      "text/plain": [
       "MinMaxScaler()"
      ]
     },
     "execution_count": 16,
     "metadata": {},
     "output_type": "execute_result"
    }
   ],
   "source": [
    "scaler.fit(x_train)"
   ]
  },
  {
   "cell_type": "code",
   "execution_count": 17,
   "id": "54f057b5",
   "metadata": {},
   "outputs": [],
   "source": [
    "x_train_scaled = scaler.transform(x_train)\n",
    "x_validate_scaled = scaler.transform(x_validate)\n",
    "x_test_scaled = scaler.transform(x_test)"
   ]
  },
  {
   "cell_type": "code",
   "execution_count": 18,
   "id": "8ac2fc86",
   "metadata": {},
   "outputs": [
    {
     "data": {
      "text/plain": [
       "Text(0.5, 1.0, 'Scaled')"
      ]
     },
     "execution_count": 18,
     "metadata": {},
     "output_type": "execute_result"
    },
    {
     "data": {
      "image/png": "[encoded data removed]",
      "text/plain": [
       "<Figure size 936x432 with 2 Axes>"
      ]
     },
     "metadata": {
      "needs_background": "light"
     },
     "output_type": "display_data"
    }
   ],
   "source": [
    "plt.figure(figsize=(13, 6))\n",
    "plt.subplot(121)\n",
    "plt.hist(x_train, bins=25, ec='black')\n",
    "plt.title('Original')\n",
    "plt.subplot(122)\n",
    "plt.hist(x_train_scaled, bins=25, ec='black')\n",
    "plt.title('Scaled')"
   ]
  },
  {
   "cell_type": "markdown",
   "id": "bb244fde",
   "metadata": {},
   "source": [
    "### Baseline"
   ]
  },
  {
   "cell_type": "code",
   "execution_count": 19,
   "id": "131e0e94",
   "metadata": {},
   "outputs": [
    {
     "data": {
      "text/plain": [
       "391039.6407250617"
      ]
     },
     "execution_count": 19,
     "metadata": {},
     "output_type": "execute_result"
    }
   ],
   "source": [
    "y_train.mean()"
   ]
  },
  {
   "cell_type": "code",
   "execution_count": 20,
   "id": "ce1ab9b5",
   "metadata": {},
   "outputs": [],
   "source": [
    "y_train = pd.DataFrame(y_train)\n",
    "y_validate = pd.DataFrame(y_validate)"
   ]
  },
  {
   "cell_type": "code",
   "execution_count": 21,
   "id": "87faf21e",
   "metadata": {},
   "outputs": [],
   "source": [
    "y_train['baseline'] = y_train.taxvaluedollarcnt.mean()\n",
    "y_validate['baseline'] = y_validate.taxvaluedollarcnt.mean()"
   ]
  },
  {
   "cell_type": "code",
   "execution_count": 22,
   "id": "c94451ec",
   "metadata": {},
   "outputs": [
    {
     "data": {
      "text/html": [
       "<div>\n",
       "<style scoped>\n",
       "    .dataframe tbody tr th:only-of-type {\n",
       "        vertical-align: middle;\n",
       "    }\n",
       "\n",
       "    .dataframe tbody tr th {\n",
       "        vertical-align: top;\n",
       "    }\n",
       "\n",
       "    .dataframe thead th {\n",
       "        text-align: right;\n",
       "    }\n",
       "</style>\n",
       "<table border=\"1\" class=\"dataframe\">\n",
       "  <thead>\n",
       "    <tr style=\"text-align: right;\">\n",
       "      <th></th>\n",
       "      <th>taxvaluedollarcnt</th>\n",
       "      <th>baseline</th>\n",
       "    </tr>\n",
       "  </thead>\n",
       "  <tbody>\n",
       "    <tr>\n",
       "      <th>2113106</th>\n",
       "      <td>624276.0</td>\n",
       "      <td>391039.640725</td>\n",
       "    </tr>\n",
       "  </tbody>\n",
       "</table>\n",
       "</div>"
      ],
      "text/plain": [
       "         taxvaluedollarcnt       baseline\n",
       "2113106           624276.0  391039.640725"
      ]
     },
     "execution_count": 22,
     "metadata": {},
     "output_type": "execute_result"
    }
   ],
   "source": [
    "y_train.head(1)"
   ]
  },
  {
   "cell_type": "code",
   "execution_count": 23,
   "id": "906860ac",
   "metadata": {},
   "outputs": [],
   "source": [
    "rmse_train = mean_squared_error(y_train.taxvaluedollarcnt, y_train.baseline)**(1/2)\n",
    "rmse_validate = mean_squared_error(y_validate.taxvaluedollarcnt, y_validate.baseline)**(1/2)"
   ]
  },
  {
   "cell_type": "code",
   "execution_count": 24,
   "id": "a667a62a",
   "metadata": {},
   "outputs": [
    {
     "data": {
      "text/plain": [
       "299709.96470061934"
      ]
     },
     "execution_count": 24,
     "metadata": {},
     "output_type": "execute_result"
    }
   ],
   "source": [
    "rmse_train"
   ]
  },
  {
   "cell_type": "code",
   "execution_count": 25,
   "id": "eb8cf894",
   "metadata": {},
   "outputs": [
    {
     "data": {
      "text/plain": [
       "299954.0009944602"
      ]
     },
     "execution_count": 25,
     "metadata": {},
     "output_type": "execute_result"
    }
   ],
   "source": [
    "rmse_validate"
   ]
  },
  {
   "cell_type": "markdown",
   "id": "0731c0f0",
   "metadata": {},
   "source": [
    "### Model \n",
    "\n",
    "### Linear Regression (OLS)"
   ]
  },
  {
   "cell_type": "code",
   "execution_count": 49,
   "id": "d2ca9d77",
   "metadata": {},
   "outputs": [],
   "source": [
    "lm = LinearRegression(normalize=True)"
   ]
  },
  {
   "cell_type": "code",
   "execution_count": 50,
   "id": "08aca231",
   "metadata": {},
   "outputs": [
    {
     "data": {
      "text/plain": [
       "LinearRegression(normalize=True)"
      ]
     },
     "execution_count": 50,
     "metadata": {},
     "output_type": "execute_result"
    }
   ],
   "source": [
    "lm.fit(x_train_scaled, y_train.taxvaluedollarcnt)"
   ]
  },
  {
   "cell_type": "code",
   "execution_count": 51,
   "id": "f4afe235",
   "metadata": {},
   "outputs": [],
   "source": [
    "y_train['amount_pred_lm'] = lm.predict(x_train_scaled)"
   ]
  },
  {
   "cell_type": "code",
   "execution_count": 52,
   "id": "898c3f76",
   "metadata": {},
   "outputs": [],
   "source": [
    "rmse_train = mean_squared_error(y_train.taxvaluedollarcnt, y_train.amount_pred_lm)**(1/2)"
   ]
  },
  {
   "cell_type": "code",
   "execution_count": 53,
   "id": "cb2a5eca",
   "metadata": {},
   "outputs": [],
   "source": [
    "y_validate['amount_pred_lm'] = lm.predict(x_validate_scaled)"
   ]
  },
  {
   "cell_type": "code",
   "execution_count": 54,
   "id": "94908ba6",
   "metadata": {},
   "outputs": [],
   "source": [
    "rmse_validate = mean_squared_error(y_validate.taxvaluedollarcnt, y_validate.amount_pred_lm)**(1/2)"
   ]
  },
  {
   "cell_type": "code",
   "execution_count": 55,
   "id": "47a4365d",
   "metadata": {},
   "outputs": [
    {
     "name": "stdout",
     "output_type": "stream",
     "text": [
      "RMSE for OLS using LinearRegression\n",
      "Training/In-Sample:  64636.22964028341 \n",
      "Validation/Out-of-Sample:  64338.64308759447\n"
     ]
    }
   ],
   "source": [
    "print(\"RMSE for OLS using LinearRegression\\nTraining/In-Sample: \", rmse_train, \n",
    "      \"\\nValidation/Out-of-Sample: \", rmse_validate)"
   ]
  },
  {
   "cell_type": "markdown",
   "id": "ed884c3c",
   "metadata": {},
   "source": [
    "### Lasso Lars"
   ]
  },
  {
   "cell_type": "code",
   "execution_count": 34,
   "id": "be756302",
   "metadata": {},
   "outputs": [],
   "source": [
    "lars = LassoLars(alpha=1.0)"
   ]
  },
  {
   "cell_type": "code",
   "execution_count": 35,
   "id": "ec5a8d51",
   "metadata": {},
   "outputs": [
    {
     "data": {
      "text/plain": [
       "LassoLars()"
      ]
     },
     "execution_count": 35,
     "metadata": {},
     "output_type": "execute_result"
    }
   ],
   "source": [
    "lars.fit(x_train, y_train.taxvaluedollarcnt)"
   ]
  },
  {
   "cell_type": "code",
   "execution_count": 36,
   "id": "3d24a064",
   "metadata": {},
   "outputs": [],
   "source": [
    "y_train['amount_pred_lars'] = lars.predict(x_train)"
   ]
  },
  {
   "cell_type": "code",
   "execution_count": 38,
   "id": "61b53d30",
   "metadata": {},
   "outputs": [],
   "source": [
    "rmse_train = mean_squared_error(y_train.taxvaluedollarcnt, y_train.amount_pred_lars)**(1/2)"
   ]
  },
  {
   "cell_type": "code",
   "execution_count": 39,
   "id": "c8ef82fa",
   "metadata": {},
   "outputs": [],
   "source": [
    "y_validate['amount_pred_lars'] = lars.predict(x_validate)"
   ]
  },
  {
   "cell_type": "code",
   "execution_count": 58,
   "id": "1c259c34",
   "metadata": {},
   "outputs": [],
   "source": [
    "rmse_validate = mean_squared_error(y_validate.taxvaluedollarcnt, y_validate.amount_pred_lars)**(1/2)"
   ]
  },
  {
   "cell_type": "code",
   "execution_count": 41,
   "id": "ea21f7b5",
   "metadata": {},
   "outputs": [
    {
     "name": "stdout",
     "output_type": "stream",
     "text": [
      "RMSE for Lasso + Lars\n",
      "Training/In-Sample:  64792.31958985171 \n",
      "Validation/Out-of-Sample:  64498.05212751794\n"
     ]
    }
   ],
   "source": [
    "print(\"RMSE for Lasso + Lars\\nTraining/In-Sample: \", rmse_train, \n",
    "      \"\\nValidation/Out-of-Sample: \", rmse_validate)"
   ]
  },
  {
   "cell_type": "markdown",
   "id": "a0d53093",
   "metadata": {},
   "source": [
    "### Tweedie Regressor (GLM)"
   ]
  },
  {
   "cell_type": "code",
   "execution_count": 61,
   "id": "04a464fc",
   "metadata": {},
   "outputs": [],
   "source": [
    "glm = TweedieRegressor(power=1, alpha=0)"
   ]
  },
  {
   "cell_type": "code",
   "execution_count": 62,
   "id": "10abbcb7",
   "metadata": {},
   "outputs": [
    {
     "data": {
      "text/plain": [
       "TweedieRegressor(alpha=0, power=1)"
      ]
     },
     "execution_count": 62,
     "metadata": {},
     "output_type": "execute_result"
    }
   ],
   "source": [
    "glm.fit(x_train, y_train.taxvaluedollarcnt)"
   ]
  },
  {
   "cell_type": "code",
   "execution_count": 63,
   "id": "cf89ab5d",
   "metadata": {},
   "outputs": [],
   "source": [
    "y_train['amount_pred_glm'] = glm.predict(x_train)"
   ]
  },
  {
   "cell_type": "code",
   "execution_count": 64,
   "id": "41e9d115",
   "metadata": {},
   "outputs": [],
   "source": [
    "rmse_train = mean_squared_error(y_train.taxvaluedollarcnt, y_train.amount_pred_glm)**(1/2)"
   ]
  },
  {
   "cell_type": "code",
   "execution_count": 65,
   "id": "a015afbd",
   "metadata": {},
   "outputs": [],
   "source": [
    "y_validate['amount_pred_glm'] = glm.predict(x_validate)"
   ]
  },
  {
   "cell_type": "code",
   "execution_count": 66,
   "id": "8b4b6c6a",
   "metadata": {},
   "outputs": [],
   "source": [
    "rmse_validate = mean_squared_error(y_validate.taxvaluedollarcnt, y_validate.amount_pred_glm)**(1/2)"
   ]
  },
  {
   "cell_type": "code",
   "execution_count": 67,
   "id": "6ba27b92",
   "metadata": {},
   "outputs": [
    {
     "name": "stdout",
     "output_type": "stream",
     "text": [
      "RMSE for GLM using Tweedie, power=1 & alpha=0\n",
      "Training/In-Sample:  299709.96470061934 \n",
      "Validation/Out-of-Sample:  299954.0328116094\n"
     ]
    }
   ],
   "source": [
    "print(\"RMSE for GLM using Tweedie, power=1 & alpha=0\\nTraining/In-Sample: \", rmse_train, \n",
    "      \"\\nValidation/Out-of-Sample: \", rmse_validate)"
   ]
  },
  {
   "cell_type": "markdown",
   "id": "18c85f60",
   "metadata": {},
   "source": [
    "### Polynomial Regression"
   ]
  },
  {
   "cell_type": "code",
   "execution_count": 68,
   "id": "fc7648f6",
   "metadata": {},
   "outputs": [],
   "source": [
    "pf = PolynomialFeatures(degree=2)"
   ]
  },
  {
   "cell_type": "code",
   "execution_count": 69,
   "id": "fa86bfe8",
   "metadata": {},
   "outputs": [],
   "source": [
    "x_train_degree2 = pf.fit_transform(x_train)"
   ]
  },
  {
   "cell_type": "code",
   "execution_count": 70,
   "id": "5dbafa43",
   "metadata": {},
   "outputs": [],
   "source": [
    "x_validate_degree2 = pf.transform(x_validate)"
   ]
  },
  {
   "cell_type": "code",
   "execution_count": 71,
   "id": "50b513a4",
   "metadata": {},
   "outputs": [],
   "source": [
    "lm2 = LinearRegression(normalize = True)"
   ]
  },
  {
   "cell_type": "code",
   "execution_count": 72,
   "id": "3882457d",
   "metadata": {},
   "outputs": [
    {
     "data": {
      "text/plain": [
       "LinearRegression(normalize=True)"
      ]
     },
     "execution_count": 72,
     "metadata": {},
     "output_type": "execute_result"
    }
   ],
   "source": [
    "lm2.fit(x_train_degree2, y_train.taxvaluedollarcnt)"
   ]
  },
  {
   "cell_type": "code",
   "execution_count": 73,
   "id": "50077f5a",
   "metadata": {},
   "outputs": [],
   "source": [
    "y_train['amount_pred_lm2'] = lm2.predict(x_train_degree2)"
   ]
  },
  {
   "cell_type": "code",
   "execution_count": 74,
   "id": "7868786b",
   "metadata": {},
   "outputs": [],
   "source": [
    "rmse_train = mean_squared_error(y_train.taxvaluedollarcnt, y_train.amount_pred_lm2)**(1/2)"
   ]
  },
  {
   "cell_type": "code",
   "execution_count": 75,
   "id": "799d659d",
   "metadata": {},
   "outputs": [],
   "source": [
    "y_validate['amount_pred_lm2'] = lm2.predict(x_validate_degree2)"
   ]
  },
  {
   "cell_type": "code",
   "execution_count": 76,
   "id": "bff96cea",
   "metadata": {},
   "outputs": [],
   "source": [
    "rmse_validate = mean_squared_error(y_validate.taxvaluedollarcnt, y_validate.amount_pred_lm2)"
   ]
  },
  {
   "cell_type": "code",
   "execution_count": 77,
   "id": "293f7925",
   "metadata": {},
   "outputs": [
    {
     "name": "stdout",
     "output_type": "stream",
     "text": [
      "RMSE for Polynomial Model, degrees=2\n",
      "Training/In-Sample:  61086.69942023237 \n",
      "Validation/Out-of-Sample:  3795917515.9188786\n"
     ]
    }
   ],
   "source": [
    "print(\"RMSE for Polynomial Model, degrees=2\\nTraining/In-Sample: \", rmse_train, \n",
    "      \"\\nValidation/Out-of-Sample: \", rmse_validate)"
   ]
  },
  {
   "cell_type": "code",
   "execution_count": null,
   "id": "7ca363a3",
   "metadata": {},
   "outputs": [],
   "source": []
  }
 ],
 "metadata": {
  "kernelspec": {
   "display_name": "Python 3 (ipykernel)",
   "language": "python",
   "name": "python3"
  },
  "language_info": {
   "codemirror_mode": {
    "name": "ipython",
    "version": 3
   },
   "file_extension": ".py",
   "mimetype": "text/x-python",
   "name": "python",
   "nbconvert_exporter": "python",
   "pygments_lexer": "ipython3",
   "version": "3.9.12"
  }
 },
 "nbformat": 4,
 "nbformat_minor": 5
}
