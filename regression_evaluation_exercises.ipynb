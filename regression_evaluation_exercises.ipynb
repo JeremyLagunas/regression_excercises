{
 "cells": [
  {
   "cell_type": "code",
   "execution_count": 7,
   "id": "ee911f88",
   "metadata": {},
   "outputs": [],
   "source": [
    "import pandas as pd\n",
    "import numpy as np\n",
    "import matplotlib.pyplot as plt\n",
    "from scipy import stats\n",
    "from sklearn.metrics import mean_squared_error, r2_score\n",
    "\n",
    "from sklearn.linear_model import LinearRegression\n",
    "from sklearn.feature_selection import f_regression \n",
    "from math import sqrt\n",
    "import seaborn as sns\n",
    "import warnings\n",
    "warnings.filterwarnings('ignore')\n",
    "from sklearn.model_selection import train_test_split"
   ]
  },
  {
   "cell_type": "markdown",
   "id": "dda0a4f9",
   "metadata": {},
   "source": [
    "### 1. Load your zillow dataset."
   ]
  },
  {
   "cell_type": "code",
   "execution_count": 2,
   "id": "21003f67",
   "metadata": {},
   "outputs": [],
   "source": [
    "import wrangle"
   ]
  },
  {
   "cell_type": "code",
   "execution_count": 4,
   "id": "ba783f89",
   "metadata": {},
   "outputs": [],
   "source": [
    "df = wrangle.wrangle_zillow()"
   ]
  },
  {
   "cell_type": "code",
   "execution_count": 5,
   "id": "eb87b398",
   "metadata": {},
   "outputs": [
    {
     "data": {
      "text/html": [
       "<div>\n",
       "<style scoped>\n",
       "    .dataframe tbody tr th:only-of-type {\n",
       "        vertical-align: middle;\n",
       "    }\n",
       "\n",
       "    .dataframe tbody tr th {\n",
       "        vertical-align: top;\n",
       "    }\n",
       "\n",
       "    .dataframe thead th {\n",
       "        text-align: right;\n",
       "    }\n",
       "</style>\n",
       "<table border=\"1\" class=\"dataframe\">\n",
       "  <thead>\n",
       "    <tr style=\"text-align: right;\">\n",
       "      <th></th>\n",
       "      <th>bedroomcnt</th>\n",
       "      <th>bathroomcnt</th>\n",
       "      <th>calculatedfinishedsquarefeet</th>\n",
       "      <th>taxvaluedollarcnt</th>\n",
       "      <th>yearbuilt</th>\n",
       "      <th>taxamount</th>\n",
       "      <th>fips</th>\n",
       "    </tr>\n",
       "  </thead>\n",
       "  <tbody>\n",
       "    <tr>\n",
       "      <th>3</th>\n",
       "      <td>0.0</td>\n",
       "      <td>0.0</td>\n",
       "      <td>5068.0</td>\n",
       "      <td>1174475.0</td>\n",
       "      <td>1948.0</td>\n",
       "      <td>14557.57</td>\n",
       "      <td>6037.0</td>\n",
       "    </tr>\n",
       "    <tr>\n",
       "      <th>4</th>\n",
       "      <td>0.0</td>\n",
       "      <td>0.0</td>\n",
       "      <td>1776.0</td>\n",
       "      <td>440101.0</td>\n",
       "      <td>1947.0</td>\n",
       "      <td>5725.17</td>\n",
       "      <td>6037.0</td>\n",
       "    </tr>\n",
       "    <tr>\n",
       "      <th>5</th>\n",
       "      <td>0.0</td>\n",
       "      <td>0.0</td>\n",
       "      <td>2400.0</td>\n",
       "      <td>287634.0</td>\n",
       "      <td>1943.0</td>\n",
       "      <td>3661.28</td>\n",
       "      <td>6037.0</td>\n",
       "    </tr>\n",
       "  </tbody>\n",
       "</table>\n",
       "</div>"
      ],
      "text/plain": [
       "   bedroomcnt  bathroomcnt  calculatedfinishedsquarefeet  taxvaluedollarcnt  \\\n",
       "3         0.0          0.0                        5068.0          1174475.0   \n",
       "4         0.0          0.0                        1776.0           440101.0   \n",
       "5         0.0          0.0                        2400.0           287634.0   \n",
       "\n",
       "   yearbuilt  taxamount    fips  \n",
       "3     1948.0   14557.57  6037.0  \n",
       "4     1947.0    5725.17  6037.0  \n",
       "5     1943.0    3661.28  6037.0  "
      ]
     },
     "execution_count": 5,
     "metadata": {},
     "output_type": "execute_result"
    }
   ],
   "source": [
    "df.head(3)"
   ]
  },
  {
   "cell_type": "code",
   "execution_count": 8,
   "id": "b1f27d54",
   "metadata": {},
   "outputs": [],
   "source": [
    "df_train_and_validate, df_test = train_test_split(df, random_state=123)"
   ]
  },
  {
   "cell_type": "code",
   "execution_count": 9,
   "id": "58ca4cd6",
   "metadata": {},
   "outputs": [],
   "source": [
    "df_train, df_validate = train_test_split(df_train_and_validate)"
   ]
  },
  {
   "cell_type": "markdown",
   "id": "dc103173",
   "metadata": {},
   "source": [
    "### 2. Fit a linear regression model (ordinary least squares) and compute yhat, predictions of taxvaluedollarcnt using only calfulatedfinishedsqft.\n",
    "\n"
   ]
  },
  {
   "cell_type": "code",
   "execution_count": 17,
   "id": "5f0a3800",
   "metadata": {},
   "outputs": [
    {
     "data": {
      "text/plain": [
       "2232293    2281.0\n",
       "9300       1560.0\n",
       "194381     3324.0\n",
       "2132744    3572.0\n",
       "1549256    1411.0\n",
       "            ...  \n",
       "2847508     580.0\n",
       "349158     2471.0\n",
       "596060     1751.0\n",
       "2907811    1875.0\n",
       "693517     1784.0\n",
       "Name: calculatedfinishedsquarefeet, Length: 1582625, dtype: float64"
      ]
     },
     "execution_count": 17,
     "metadata": {},
     "output_type": "execute_result"
    }
   ],
   "source": [
    "df_train.calculatedfinishedsquarefeet"
   ]
  },
  {
   "cell_type": "code",
   "execution_count": 18,
   "id": "1ff220d8",
   "metadata": {},
   "outputs": [
    {
     "data": {
      "text/html": [
       "<div>\n",
       "<style scoped>\n",
       "    .dataframe tbody tr th:only-of-type {\n",
       "        vertical-align: middle;\n",
       "    }\n",
       "\n",
       "    .dataframe tbody tr th {\n",
       "        vertical-align: top;\n",
       "    }\n",
       "\n",
       "    .dataframe thead th {\n",
       "        text-align: right;\n",
       "    }\n",
       "</style>\n",
       "<table border=\"1\" class=\"dataframe\">\n",
       "  <thead>\n",
       "    <tr style=\"text-align: right;\">\n",
       "      <th></th>\n",
       "      <th>calculatedfinishedsquarefeet</th>\n",
       "    </tr>\n",
       "  </thead>\n",
       "  <tbody>\n",
       "    <tr>\n",
       "      <th>2232293</th>\n",
       "      <td>2281.0</td>\n",
       "    </tr>\n",
       "    <tr>\n",
       "      <th>9300</th>\n",
       "      <td>1560.0</td>\n",
       "    </tr>\n",
       "    <tr>\n",
       "      <th>194381</th>\n",
       "      <td>3324.0</td>\n",
       "    </tr>\n",
       "    <tr>\n",
       "      <th>2132744</th>\n",
       "      <td>3572.0</td>\n",
       "    </tr>\n",
       "    <tr>\n",
       "      <th>1549256</th>\n",
       "      <td>1411.0</td>\n",
       "    </tr>\n",
       "    <tr>\n",
       "      <th>...</th>\n",
       "      <td>...</td>\n",
       "    </tr>\n",
       "    <tr>\n",
       "      <th>2847508</th>\n",
       "      <td>580.0</td>\n",
       "    </tr>\n",
       "    <tr>\n",
       "      <th>349158</th>\n",
       "      <td>2471.0</td>\n",
       "    </tr>\n",
       "    <tr>\n",
       "      <th>596060</th>\n",
       "      <td>1751.0</td>\n",
       "    </tr>\n",
       "    <tr>\n",
       "      <th>2907811</th>\n",
       "      <td>1875.0</td>\n",
       "    </tr>\n",
       "    <tr>\n",
       "      <th>693517</th>\n",
       "      <td>1784.0</td>\n",
       "    </tr>\n",
       "  </tbody>\n",
       "</table>\n",
       "<p>1582625 rows × 1 columns</p>\n",
       "</div>"
      ],
      "text/plain": [
       "         calculatedfinishedsquarefeet\n",
       "2232293                        2281.0\n",
       "9300                           1560.0\n",
       "194381                         3324.0\n",
       "2132744                        3572.0\n",
       "1549256                        1411.0\n",
       "...                               ...\n",
       "2847508                         580.0\n",
       "349158                         2471.0\n",
       "596060                         1751.0\n",
       "2907811                        1875.0\n",
       "693517                         1784.0\n",
       "\n",
       "[1582625 rows x 1 columns]"
      ]
     },
     "execution_count": 18,
     "metadata": {},
     "output_type": "execute_result"
    }
   ],
   "source": [
    "df_train[['calculatedfinishedsquarefeet']]"
   ]
  },
  {
   "cell_type": "code",
   "execution_count": 16,
   "id": "93f1eac9",
   "metadata": {},
   "outputs": [],
   "source": [
    "model = LinearRegression().fit(df_train[['calculatedfinishedsquarefeet']], df_train['taxvaluedollarcnt'])"
   ]
  },
  {
   "cell_type": "code",
   "execution_count": 19,
   "id": "f8618046",
   "metadata": {},
   "outputs": [],
   "source": [
    "predictions = model.predict(df_train[['calculatedfinishedsquarefeet']])"
   ]
  },
  {
   "cell_type": "code",
   "execution_count": 22,
   "id": "5e939c9d",
   "metadata": {},
   "outputs": [],
   "source": [
    "df_train['yhat'] = predictions"
   ]
  },
  {
   "cell_type": "markdown",
   "id": "5eee2b15",
   "metadata": {},
   "source": [
    "### 3. Plot the residuals for the linear regression model that you made."
   ]
  },
  {
   "cell_type": "markdown",
   "id": "f82b0c68",
   "metadata": {},
   "source": [
    "Baseline"
   ]
  },
  {
   "cell_type": "code",
   "execution_count": 30,
   "id": "ca84fc8e",
   "metadata": {},
   "outputs": [],
   "source": [
    "df_train['baseline'] = df_train.taxvaluedollarcnt.mean()"
   ]
  },
  {
   "cell_type": "code",
   "execution_count": 43,
   "id": "c9c017c7",
   "metadata": {},
   "outputs": [],
   "source": [
    "df_train['baseline_residual'] = df_train.taxvaluedollarcnt - df_train.baseline"
   ]
  },
  {
   "cell_type": "code",
   "execution_count": 31,
   "id": "332cb116",
   "metadata": {},
   "outputs": [
    {
     "data": {
      "text/plain": [
       "2232293    391074.23607\n",
       "9300       391074.23607\n",
       "Name: baseline, dtype: float64"
      ]
     },
     "execution_count": 31,
     "metadata": {},
     "output_type": "execute_result"
    }
   ],
   "source": [
    "df_train.baseline.head(2)"
   ]
  },
  {
   "cell_type": "code",
   "execution_count": 23,
   "id": "d0a4888a",
   "metadata": {},
   "outputs": [],
   "source": [
    "df_train['residual'] = df_train['taxvaluedollarcnt'] - df_train['yhat']"
   ]
  },
  {
   "cell_type": "code",
   "execution_count": 44,
   "id": "d80ba8f2",
   "metadata": {},
   "outputs": [
    {
     "data": {
      "text/plain": [
       "Text(0.5, 1.0, 'OLS Model Residual')"
      ]
     },
     "execution_count": 44,
     "metadata": {},
     "output_type": "execute_result"
    },
    {
     "data": {
      "image/png": "[encoded data removed]",
      "text/plain": [
       "<Figure size 792x360 with 2 Axes>"
      ]
     },
     "metadata": {
      "needs_background": "light"
     },
     "output_type": "display_data"
    }
   ],
   "source": [
    "plt.figure(figsize = (11,5))\n",
    "\n",
    "plt.subplot(121)\n",
    "plt.scatter(df_train.calculatedfinishedsquarefeet, df_train.baseline_residual)\n",
    "plt.axhline(y = 0, ls = ':')\n",
    "plt.xlabel('x')\n",
    "plt.ylabel('Residual')\n",
    "plt.title('Baseline Residuals')\n",
    "\n",
    "plt.subplot(122)\n",
    "plt.scatter(df_train.calculatedfinishedsquarefeet, df_train.residual)\n",
    "plt.axhline(y = 0, ls = ':')\n",
    "plt.xlabel('x')\n",
    "plt.ylabel('Residual')\n",
    "plt.title('OLS Model Residual')"
   ]
  },
  {
   "cell_type": "markdown",
   "id": "dbb881b8",
   "metadata": {},
   "source": [
    "### 4. Calculate the sum of squared errors, explained sum of squares, total sum of squares, mean squared error, and root mean squared error for your model.\n",
    "\n"
   ]
  },
  {
   "cell_type": "markdown",
   "id": "6ce80895",
   "metadata": {},
   "source": [
    "SSE (sum of squared errors)"
   ]
  },
  {
   "cell_type": "code",
   "execution_count": 34,
   "id": "ca2b9dc2",
   "metadata": {},
   "outputs": [],
   "source": [
    "df_train['residual_squared'] = df_train.residual**2"
   ]
  },
  {
   "cell_type": "code",
   "execution_count": 45,
   "id": "2bdc6806",
   "metadata": {},
   "outputs": [],
   "source": [
    "df_train['baseline_residual_squared'] = df_train.baseline_residual**2"
   ]
  },
  {
   "cell_type": "code",
   "execution_count": 40,
   "id": "061ad014",
   "metadata": {},
   "outputs": [
    {
     "data": {
      "text/html": [
       "<div>\n",
       "<style scoped>\n",
       "    .dataframe tbody tr th:only-of-type {\n",
       "        vertical-align: middle;\n",
       "    }\n",
       "\n",
       "    .dataframe tbody tr th {\n",
       "        vertical-align: top;\n",
       "    }\n",
       "\n",
       "    .dataframe thead th {\n",
       "        text-align: right;\n",
       "    }\n",
       "</style>\n",
       "<table border=\"1\" class=\"dataframe\">\n",
       "  <thead>\n",
       "    <tr style=\"text-align: right;\">\n",
       "      <th></th>\n",
       "      <th>bedroomcnt</th>\n",
       "      <th>bathroomcnt</th>\n",
       "      <th>calculatedfinishedsquarefeet</th>\n",
       "      <th>taxvaluedollarcnt</th>\n",
       "      <th>yearbuilt</th>\n",
       "      <th>taxamount</th>\n",
       "      <th>fips</th>\n",
       "      <th>yhat</th>\n",
       "      <th>residual</th>\n",
       "      <th>baseline</th>\n",
       "      <th>residual_squared</th>\n",
       "      <th>baseline_residual</th>\n",
       "      <th>baseline_residual_squared</th>\n",
       "    </tr>\n",
       "  </thead>\n",
       "  <tbody>\n",
       "    <tr>\n",
       "      <th>2232293</th>\n",
       "      <td>4.0</td>\n",
       "      <td>3.0</td>\n",
       "      <td>2281.0</td>\n",
       "      <td>120389.0</td>\n",
       "      <td>1976.0</td>\n",
       "      <td>1729.68</td>\n",
       "      <td>6037.0</td>\n",
       "      <td>505682.663878</td>\n",
       "      <td>-385293.663878</td>\n",
       "      <td>391074.23607</td>\n",
       "      <td>1.484512e+11</td>\n",
       "      <td>-385293.663878</td>\n",
       "      <td>1.484512e+11</td>\n",
       "    </tr>\n",
       "    <tr>\n",
       "      <th>9300</th>\n",
       "      <td>4.0</td>\n",
       "      <td>2.0</td>\n",
       "      <td>1560.0</td>\n",
       "      <td>81555.0</td>\n",
       "      <td>1960.0</td>\n",
       "      <td>1431.89</td>\n",
       "      <td>6037.0</td>\n",
       "      <td>351215.586143</td>\n",
       "      <td>-269660.586143</td>\n",
       "      <td>391074.23607</td>\n",
       "      <td>7.271683e+10</td>\n",
       "      <td>-269660.586143</td>\n",
       "      <td>7.271683e+10</td>\n",
       "    </tr>\n",
       "    <tr>\n",
       "      <th>194381</th>\n",
       "      <td>3.0</td>\n",
       "      <td>2.5</td>\n",
       "      <td>3324.0</td>\n",
       "      <td>917220.0</td>\n",
       "      <td>1990.0</td>\n",
       "      <td>10867.60</td>\n",
       "      <td>6111.0</td>\n",
       "      <td>729135.038466</td>\n",
       "      <td>188084.961534</td>\n",
       "      <td>391074.23607</td>\n",
       "      <td>3.537595e+10</td>\n",
       "      <td>188084.961534</td>\n",
       "      <td>3.537595e+10</td>\n",
       "    </tr>\n",
       "  </tbody>\n",
       "</table>\n",
       "</div>"
      ],
      "text/plain": [
       "         bedroomcnt  bathroomcnt  calculatedfinishedsquarefeet  \\\n",
       "2232293         4.0          3.0                        2281.0   \n",
       "9300            4.0          2.0                        1560.0   \n",
       "194381          3.0          2.5                        3324.0   \n",
       "\n",
       "         taxvaluedollarcnt  yearbuilt  taxamount    fips           yhat  \\\n",
       "2232293           120389.0     1976.0    1729.68  6037.0  505682.663878   \n",
       "9300               81555.0     1960.0    1431.89  6037.0  351215.586143   \n",
       "194381            917220.0     1990.0   10867.60  6111.0  729135.038466   \n",
       "\n",
       "              residual      baseline  residual_squared  baseline_residual  \\\n",
       "2232293 -385293.663878  391074.23607      1.484512e+11     -385293.663878   \n",
       "9300    -269660.586143  391074.23607      7.271683e+10     -269660.586143   \n",
       "194381   188084.961534  391074.23607      3.537595e+10      188084.961534   \n",
       "\n",
       "         baseline_residual_squared  \n",
       "2232293               1.484512e+11  \n",
       "9300                  7.271683e+10  \n",
       "194381                3.537595e+10  "
      ]
     },
     "execution_count": 40,
     "metadata": {},
     "output_type": "execute_result"
    }
   ],
   "source": [
    "df_train.head(3)"
   ]
  },
  {
   "cell_type": "code",
   "execution_count": 46,
   "id": "66a50b42",
   "metadata": {},
   "outputs": [
    {
     "name": "stdout",
     "output_type": "stream",
     "text": [
      "SSE = 98304245548000800.0\n",
      "SSE Baseline = 142408337032689680.0\n"
     ]
    }
   ],
   "source": [
    "SSE = df_train['residual_squared'].sum()\n",
    "SSE_baseline = df_train['baseline_residual_squared'].sum()\n",
    "\n",
    "print('SSE =', '{:.1f}'.format(SSE))\n",
    "print('SSE Baseline =', '{:.1f}'.format(SSE_baseline))"
   ]
  },
  {
   "cell_type": "markdown",
   "id": "58e1029b",
   "metadata": {},
   "source": [
    "MSE (mean squared error)"
   ]
  },
  {
   "cell_type": "code",
   "execution_count": 48,
   "id": "a4cbc385",
   "metadata": {},
   "outputs": [
    {
     "data": {
      "text/plain": [
       "1582625"
      ]
     },
     "execution_count": 48,
     "metadata": {},
     "output_type": "execute_result"
    }
   ],
   "source": [
    "len(df_train)"
   ]
  },
  {
   "cell_type": "code",
   "execution_count": 50,
   "id": "2287be67",
   "metadata": {},
   "outputs": [
    {
     "name": "stdout",
     "output_type": "stream",
     "text": [
      "MSE =  62114680071.4\n",
      "MSE Baseline = 89982362867.2\n"
     ]
    }
   ],
   "source": [
    "MSE = SSE/len(df_train)\n",
    "MSE_baseline = SSE_baseline/len(df_train)\n",
    "\n",
    "print('MSE = ', '{:.1f}'.format(MSE))\n",
    "print('MSE Baseline =', '{:.1f}'.format(MSE_baseline))"
   ]
  },
  {
   "cell_type": "markdown",
   "id": "f5fbdd12",
   "metadata": {},
   "source": [
    "RMSE (root mean squared error)"
   ]
  },
  {
   "cell_type": "code",
   "execution_count": 51,
   "id": "7dac3e75",
   "metadata": {},
   "outputs": [
    {
     "name": "stdout",
     "output_type": "stream",
     "text": [
      "RMSE = 249228.2\n",
      "RMSE Baseline = 299970.6\n"
     ]
    }
   ],
   "source": [
    "from math import sqrt\n",
    "RMSE = sqrt(MSE)\n",
    "RMSE_baseline = sqrt(MSE_baseline)\n",
    "\n",
    "print('RMSE =', '{:.1f}'.format(RMSE))\n",
    "print('RMSE Baseline =', '{:.1f}'.format(RMSE_baseline))"
   ]
  },
  {
   "cell_type": "markdown",
   "id": "69320b6e",
   "metadata": {},
   "source": [
    "Total sum of squares / Explained sum of squares"
   ]
  },
  {
   "cell_type": "code",
   "execution_count": 52,
   "id": "81e55a67",
   "metadata": {},
   "outputs": [
    {
     "data": {
      "text/plain": [
       "1.4240833703268968e+17"
      ]
     },
     "execution_count": 52,
     "metadata": {},
     "output_type": "execute_result"
    }
   ],
   "source": [
    "# ESS = TSS - SSE\n",
    "\n",
    "# TSS = SSE_baseline\n",
    "TSS = SSE_baseline\n",
    "TSS"
   ]
  },
  {
   "cell_type": "code",
   "execution_count": 54,
   "id": "2d74b9a5",
   "metadata": {},
   "outputs": [
    {
     "data": {
      "text/plain": [
       "4.410409148468888e+16"
      ]
     },
     "execution_count": 54,
     "metadata": {},
     "output_type": "execute_result"
    }
   ],
   "source": [
    "ESS = TSS - SSE\n",
    "ESS"
   ]
  },
  {
   "cell_type": "code",
   "execution_count": 55,
   "id": "4caedf49",
   "metadata": {},
   "outputs": [
    {
     "data": {
      "text/plain": [
       "0.3097016116027311"
      ]
     },
     "execution_count": 55,
     "metadata": {},
     "output_type": "execute_result"
    }
   ],
   "source": [
    "R2 = ESS/TSS\n",
    "R2"
   ]
  },
  {
   "cell_type": "code",
   "execution_count": null,
   "id": "f40ca36d",
   "metadata": {},
   "outputs": [],
   "source": []
  }
 ],
 "metadata": {
  "kernelspec": {
   "display_name": "Python 3 (ipykernel)",
   "language": "python",
   "name": "python3"
  },
  "language_info": {
   "codemirror_mode": {
    "name": "ipython",
    "version": 3
   },
   "file_extension": ".py",
   "mimetype": "text/x-python",
   "name": "python",
   "nbconvert_exporter": "python",
   "pygments_lexer": "ipython3",
   "version": "3.9.12"
  }
 },
 "nbformat": 4,
 "nbformat_minor": 5
}
